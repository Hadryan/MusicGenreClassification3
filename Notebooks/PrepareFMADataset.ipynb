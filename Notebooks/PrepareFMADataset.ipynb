{
 "cells": [
  {
   "cell_type": "code",
   "execution_count": 22,
   "metadata": {},
   "outputs": [],
   "source": [
    "import os\n",
    "import numpy as np\n",
    "import pandas as pd\n",
    "import shutil\n",
    "from tqdm import tqdm"
   ]
  },
  {
   "cell_type": "code",
   "execution_count": 23,
   "metadata": {},
   "outputs": [],
   "source": [
    "fma_path = '../data/fma_small/'\n",
    "fma_data_path = fma_path + 'data/'"
   ]
  },
  {
   "cell_type": "code",
   "execution_count": 24,
   "metadata": {},
   "outputs": [],
   "source": [
    "if not os.path.exists(fma_data_path):\n",
    "    os.mkdir(fma_data_path)"
   ]
  },
  {
   "cell_type": "code",
   "execution_count": 25,
   "metadata": {},
   "outputs": [
    {
     "name": "stderr",
     "output_type": "stream",
     "text": [
      "100%|██████████| 151/151 [06:34<00:00,  9.23s/it]\n"
     ]
    }
   ],
   "source": [
    "for fld in tqdm(os.listdir(fma_path)):\n",
    "    fld_path = os.path.join(fma_path, fld)\n",
    "    \n",
    "    if 'data' in fld or os.path.isfile(fld_path):\n",
    "        continue\n",
    "        \n",
    "    for file in os.listdir(fld_path):\n",
    "        file_path = os.path.join(fld_path, file)\n",
    "        if '.mp3' in file:\n",
    "            shutil.copy(file_path, fma_data_path + file)\n",
    "        \n",
    "    "
   ]
  },
  {
   "cell_type": "code",
   "execution_count": null,
   "metadata": {},
   "outputs": [],
   "source": [
    "\\"
   ]
  }
 ],
 "metadata": {
  "kernelspec": {
   "display_name": "MusicGenreRecognition",
   "language": "python",
   "name": "musicgenrerecognition"
  },
  "language_info": {
   "codemirror_mode": {
    "name": "ipython",
    "version": 3
   },
   "file_extension": ".py",
   "mimetype": "text/x-python",
   "name": "python",
   "nbconvert_exporter": "python",
   "pygments_lexer": "ipython3",
   "version": "3.6.7"
  }
 },
 "nbformat": 4,
 "nbformat_minor": 2
}
