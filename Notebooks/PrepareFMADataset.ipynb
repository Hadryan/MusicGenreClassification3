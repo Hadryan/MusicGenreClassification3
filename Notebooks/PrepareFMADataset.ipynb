{
 "cells": [
  {
   "cell_type": "code",
   "execution_count": 1,
   "metadata": {},
   "outputs": [],
   "source": [
    "import os\n",
    "import numpy as np\n",
    "import pandas as pd\n",
    "import shutil\n",
    "from tqdm import tqdm\n"
   ]
  },
  {
   "cell_type": "code",
   "execution_count": 23,
   "metadata": {},
   "outputs": [],
   "source": [
    "fma_path = '../data/fma_small/'\n",
    "fma_data_path = fma_path + 'data/'"
   ]
  },
  {
   "cell_type": "code",
   "execution_count": 24,
   "metadata": {},
   "outputs": [],
   "source": [
    "if not os.path.exists(fma_data_path):\n",
    "    os.mkdir(fma_data_path)"
   ]
  },
  {
   "cell_type": "code",
   "execution_count": 25,
   "metadata": {},
   "outputs": [
    {
     "name": "stderr",
     "output_type": "stream",
     "text": [
      "100%|██████████| 151/151 [06:34<00:00,  9.23s/it]\n"
     ]
    }
   ],
   "source": [
    "for fld in tqdm(os.listdir(fma_path)):\n",
    "    fld_path = os.path.join(fma_path, fld)\n",
    "    \n",
    "    if 'data' in fld or os.path.isfile(fld_path):\n",
    "        continue\n",
    "        \n",
    "    for file in os.listdir(fld_path):\n",
    "        file_path = os.path.join(fld_path, file)\n",
    "        if '.mp3' in file:\n",
    "            shutil.copy(file_path, fma_data_path + file)\n",
    "        \n",
    "    "
   ]
  },
  {
   "cell_type": "code",
   "execution_count": 11,
   "metadata": {},
   "outputs": [],
   "source": [
    "DATASET_PATH = '/home/stasdon/git/musicgenrerecognition/data/fma_small/'\n",
    "AUDIO_DIR = DATASET_PATH + 'data/'"
   ]
  },
  {
   "cell_type": "code",
   "execution_count": 10,
   "metadata": {},
   "outputs": [],
   "source": [
    "labels_df = pd.read_csv('../data/fma_small/labels1.csv')\n",
    "labels_df.track_id = labels_df.track_id.apply(lambda x: '{:06d}.mp3'.format(x))\n",
    "labels_df.to_csv('../data/fma_small/labels.csv', index=False)"
   ]
  },
  {
   "cell_type": "code",
   "execution_count": 7,
   "metadata": {},
   "outputs": [],
   "source": [
    "from sklearn.preprocessing import LabelEncoder\n",
    "le = LabelEncoder()\n",
    "le.fit_transform(labels_df.genre.unique())\n",
    "\n",
    "tags = le.classes_\n",
    "tags = np.array(tags)\n",
    "\n",
    "nb_classes = len(tags)\n",
    "genres_map = dict(zip(le.classes_, le.transform(le.classes_)))"
   ]
  },
  {
   "cell_type": "code",
   "execution_count": 8,
   "metadata": {},
   "outputs": [
    {
     "data": {
      "text/plain": [
       "{'electronic': 0,\n",
       " 'experimental': 1,\n",
       " 'folk': 2,\n",
       " 'hiphop': 3,\n",
       " 'instrumental': 4,\n",
       " 'international': 5,\n",
       " 'pop': 6,\n",
       " 'rock': 7}"
      ]
     },
     "execution_count": 8,
     "metadata": {},
     "output_type": "execute_result"
    }
   ],
   "source": [
    "genres_map"
   ]
  },
  {
   "cell_type": "code",
   "execution_count": 13,
   "metadata": {},
   "outputs": [],
   "source": [
    "import pickle\n",
    "pickle.dump(genres_map, open(DATASET_PATH + 'genres_map.pckl', \"wb\"), protocol=4)"
   ]
  },
  {
   "cell_type": "code",
   "execution_count": null,
   "metadata": {},
   "outputs": [],
   "source": []
  }
 ],
 "metadata": {
  "kernelspec": {
   "display_name": "Python [conda env:mgr]",
   "language": "python",
   "name": "conda-env-mgr-py"
  },
  "language_info": {
   "codemirror_mode": {
    "name": "ipython",
    "version": 3
   },
   "file_extension": ".py",
   "mimetype": "text/x-python",
   "name": "python",
   "nbconvert_exporter": "python",
   "pygments_lexer": "ipython3",
   "version": "3.6.8"
  }
 },
 "nbformat": 4,
 "nbformat_minor": 2
}
